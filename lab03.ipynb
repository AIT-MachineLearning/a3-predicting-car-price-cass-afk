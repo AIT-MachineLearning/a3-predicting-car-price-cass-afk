{
 "cells": [
  {
   "cell_type": "code",
   "execution_count": 1,
   "metadata": {},
   "outputs": [],
   "source": [
    "import numpy as np\n",
    "import pandas as pd \n",
    "import matplotlib.pyplot as plt\n",
    "from sklearn import datasets\n",
    "from sklearn.preprocessing import StandardScaler\n",
    "import numpy as np\n",
    "import matplotlib.pyplot as plt\n",
    "from sklearn.metrics import classification_report\n",
    "import time\n",
    "from sklearn.model_selection import train_test_split"
   ]
  },
  {
   "cell_type": "code",
   "execution_count": 2,
   "metadata": {},
   "outputs": [
    {
     "data": {
      "text/html": [
       "<div>\n",
       "<style scoped>\n",
       "    .dataframe tbody tr th:only-of-type {\n",
       "        vertical-align: middle;\n",
       "    }\n",
       "\n",
       "    .dataframe tbody tr th {\n",
       "        vertical-align: top;\n",
       "    }\n",
       "\n",
       "    .dataframe thead th {\n",
       "        text-align: right;\n",
       "    }\n",
       "</style>\n",
       "<table border=\"1\" class=\"dataframe\">\n",
       "  <thead>\n",
       "    <tr style=\"text-align: right;\">\n",
       "      <th></th>\n",
       "      <th>engine</th>\n",
       "      <th>max_power</th>\n",
       "      <th>mileage</th>\n",
       "      <th>km_driven</th>\n",
       "      <th>selling_price</th>\n",
       "    </tr>\n",
       "  </thead>\n",
       "  <tbody>\n",
       "    <tr>\n",
       "      <th>0</th>\n",
       "      <td>1248.0</td>\n",
       "      <td>74.00</td>\n",
       "      <td>23.40</td>\n",
       "      <td>145500</td>\n",
       "      <td>450000</td>\n",
       "    </tr>\n",
       "    <tr>\n",
       "      <th>1</th>\n",
       "      <td>1498.0</td>\n",
       "      <td>103.52</td>\n",
       "      <td>21.14</td>\n",
       "      <td>120000</td>\n",
       "      <td>370000</td>\n",
       "    </tr>\n",
       "    <tr>\n",
       "      <th>2</th>\n",
       "      <td>1497.0</td>\n",
       "      <td>78.00</td>\n",
       "      <td>17.70</td>\n",
       "      <td>140000</td>\n",
       "      <td>158000</td>\n",
       "    </tr>\n",
       "    <tr>\n",
       "      <th>3</th>\n",
       "      <td>1396.0</td>\n",
       "      <td>90.00</td>\n",
       "      <td>23.00</td>\n",
       "      <td>127000</td>\n",
       "      <td>225000</td>\n",
       "    </tr>\n",
       "    <tr>\n",
       "      <th>4</th>\n",
       "      <td>1298.0</td>\n",
       "      <td>88.20</td>\n",
       "      <td>16.10</td>\n",
       "      <td>120000</td>\n",
       "      <td>130000</td>\n",
       "    </tr>\n",
       "  </tbody>\n",
       "</table>\n",
       "</div>"
      ],
      "text/plain": [
       "   engine  max_power  mileage  km_driven  selling_price\n",
       "0  1248.0      74.00    23.40     145500         450000\n",
       "1  1498.0     103.52    21.14     120000         370000\n",
       "2  1497.0      78.00    17.70     140000         158000\n",
       "3  1396.0      90.00    23.00     127000         225000\n",
       "4  1298.0      88.20    16.10     120000         130000"
      ]
     },
     "execution_count": 2,
     "metadata": {},
     "output_type": "execute_result"
    }
   ],
   "source": [
    "X = pd.read_csv('X.csv')\n",
    "y = pd.read_csv('y.csv')\n",
    "df = X.join(y)\n",
    "df.head()"
   ]
  },
  {
   "cell_type": "code",
   "execution_count": 3,
   "metadata": {},
   "outputs": [
    {
     "data": {
      "text/plain": [
       "engine           214\n",
       "max_power        208\n",
       "mileage          214\n",
       "km_driven          0\n",
       "selling_price      0\n",
       "dtype: int64"
      ]
     },
     "execution_count": 3,
     "metadata": {},
     "output_type": "execute_result"
    }
   ],
   "source": [
    "df.isnull().sum()"
   ]
  },
  {
   "cell_type": "code",
   "execution_count": 4,
   "metadata": {},
   "outputs": [
    {
     "data": {
      "text/plain": [
       "engine           0\n",
       "max_power        0\n",
       "mileage          0\n",
       "km_driven        0\n",
       "selling_price    0\n",
       "dtype: int64"
      ]
     },
     "execution_count": 4,
     "metadata": {},
     "output_type": "execute_result"
    }
   ],
   "source": [
    "df.dropna(inplace=True)\n",
    "df.isna().sum()"
   ]
  },
  {
   "cell_type": "code",
   "execution_count": 5,
   "metadata": {},
   "outputs": [
    {
     "data": {
      "text/plain": [
       "engine           float64\n",
       "max_power        float64\n",
       "mileage          float64\n",
       "km_driven          int64\n",
       "selling_price      int64\n",
       "dtype: object"
      ]
     },
     "execution_count": 5,
     "metadata": {},
     "output_type": "execute_result"
    }
   ],
   "source": [
    "df.dtypes"
   ]
  },
  {
   "cell_type": "code",
   "execution_count": 6,
   "metadata": {},
   "outputs": [
    {
     "name": "stdout",
     "output_type": "stream",
     "text": [
      "10000000\n",
      "29999\n"
     ]
    }
   ],
   "source": [
    "\n",
    "# X = pd.read_csv('X.csv')\n",
    "# y = pd.read_csv('y.csv')\n",
    "X = df[['engine','max_power','mileage','km_driven']]\n",
    "y = df['selling_price']\n",
    "\n",
    "print(y.max())\n",
    "print(y.min())\n",
    "\n"
   ]
  },
  {
   "cell_type": "code",
   "execution_count": 46,
   "metadata": {},
   "outputs": [],
   "source": [
    "\n",
    "#max_val, min_val = y.max(), y.min()\n",
    "max_val, min_val = 1000000, 29999\n",
    "\n",
    "n_bins = 4\n",
    "bin_width = (max_val - min_val) / n_bins\n",
    "bin_edges = [min_val + i * bin_width for i in range(n_bins + 1)]\n",
    "bin_labels = [0, 1, 2, 3]\n",
    "y = pd.cut(y, bins=bin_edges, labels=bin_labels, include_lowest=True)\n",
    "\n",
    "\n"
   ]
  },
  {
   "cell_type": "code",
   "execution_count": 47,
   "metadata": {},
   "outputs": [
    {
     "data": {
      "text/plain": [
       "[29999.0, 272499.25, 514999.5, 757499.75, 1000000.0]"
      ]
     },
     "execution_count": 47,
     "metadata": {},
     "output_type": "execute_result"
    }
   ],
   "source": [
    "bin_edges"
   ]
  },
  {
   "cell_type": "code",
   "execution_count": 8,
   "metadata": {},
   "outputs": [],
   "source": [
    "\n",
    "\n",
    "X = X.fillna(X.mean())\n",
    "X = X[~y.isna()]\n",
    "y = y.dropna()\n"
   ]
  },
  {
   "cell_type": "code",
   "execution_count": 9,
   "metadata": {},
   "outputs": [
    {
     "data": {
      "text/plain": [
       "[1, 0, 3, 2]\n",
       "Categories (4, int64): [0 < 1 < 2 < 3]"
      ]
     },
     "execution_count": 9,
     "metadata": {},
     "output_type": "execute_result"
    }
   ],
   "source": [
    "y.unique()"
   ]
  },
  {
   "cell_type": "code",
   "execution_count": 10,
   "metadata": {},
   "outputs": [
    {
     "data": {
      "text/plain": [
       "{0, 1, 2, 3}"
      ]
     },
     "execution_count": 10,
     "metadata": {},
     "output_type": "execute_result"
    }
   ],
   "source": [
    "set(y)"
   ]
  },
  {
   "cell_type": "code",
   "execution_count": 11,
   "metadata": {},
   "outputs": [
    {
     "data": {
      "text/plain": [
       "((7000,), (7000, 4))"
      ]
     },
     "execution_count": 11,
     "metadata": {},
     "output_type": "execute_result"
    }
   ],
   "source": [
    "y.shape,X.shape"
   ]
  },
  {
   "cell_type": "code",
   "execution_count": 12,
   "metadata": {},
   "outputs": [
    {
     "name": "stdout",
     "output_type": "stream",
     "text": [
      "(5250, 4) (1750, 4) (5250,) (1750,)\n"
     ]
    }
   ],
   "source": [
    "X_train, X_test, y_train, y_test = train_test_split(X,y,test_size=0.25,random_state=42 )\n",
    "print(X_train.shape, X_test.shape, y_train.shape,y_test.shape)"
   ]
  },
  {
   "cell_type": "code",
   "execution_count": 13,
   "metadata": {},
   "outputs": [],
   "source": [
    "\n",
    "# y = y.drop(['selling_price'], axis=1)\n",
    "# X = X[~y['price_bucket'].isna()]\n",
    "# y = y['price_bucket'].dropna()\n",
    "\n",
    "\n",
    "scaler = StandardScaler()\n",
    "X_train = scaler.fit_transform(X_train)\n",
    "X_test = scaler.transform(X_test)\n",
    "\n",
    "# intercept = np.ones((X_train.shape[0], 1))\n",
    "# X_train   = np.concatenate((intercept, X_train), axis=1)\n",
    "# intercept = np.ones((X_test.shape[0], 1))\n",
    "# X_test    = np.concatenate((intercept, X_test), axis=1)\n",
    "\n",
    "k = len(set(y))\n",
    "m = X_train.shape[0]\n",
    "n = X_train.shape[1]\n",
    "Y_train_encoded = np.zeros((m, k))\n",
    "for each_class in range(k):\n",
    "    cond = y_train==each_class\n",
    "    Y_train_encoded[np.where(cond), each_class] = 1\n",
    "\n",
    "y_train = pd.to_numeric(y_train)\n",
    "\n",
    "y_test = pd.to_numeric(y_test)"
   ]
  },
  {
   "cell_type": "code",
   "execution_count": 14,
   "metadata": {},
   "outputs": [],
   "source": [
    "import pickle\n",
    "model_pkl_file = \"a3_scaler.pkl\"  \n",
    "\n",
    "with open(model_pkl_file, 'wb') as file:  \n",
    "    pickle.dump(scaler, file)"
   ]
  },
  {
   "cell_type": "code",
   "execution_count": 15,
   "metadata": {},
   "outputs": [
    {
     "data": {
      "text/plain": [
       "(1750,)"
      ]
     },
     "execution_count": 15,
     "metadata": {},
     "output_type": "execute_result"
    }
   ],
   "source": [
    "y_test.shape"
   ]
  },
  {
   "cell_type": "code",
   "execution_count": 16,
   "metadata": {},
   "outputs": [
    {
     "data": {
      "text/plain": [
       "(5250,)"
      ]
     },
     "execution_count": 16,
     "metadata": {},
     "output_type": "execute_result"
    }
   ],
   "source": [
    "y_train.shape"
   ]
  },
  {
   "cell_type": "code",
   "execution_count": 17,
   "metadata": {},
   "outputs": [
    {
     "data": {
      "text/plain": [
       "(5250, 4)"
      ]
     },
     "execution_count": 17,
     "metadata": {},
     "output_type": "execute_result"
    }
   ],
   "source": [
    "X_train.shape"
   ]
  },
  {
   "cell_type": "code",
   "execution_count": 18,
   "metadata": {},
   "outputs": [
    {
     "data": {
      "text/plain": [
       "Index(['engine', 'max_power', 'mileage', 'km_driven'], dtype='object')"
      ]
     },
     "execution_count": 18,
     "metadata": {},
     "output_type": "execute_result"
    }
   ],
   "source": [
    "X.columns\n"
   ]
  },
  {
   "cell_type": "code",
   "execution_count": 19,
   "metadata": {},
   "outputs": [
    {
     "data": {
      "text/plain": [
       "(5250, 4)"
      ]
     },
     "execution_count": 19,
     "metadata": {},
     "output_type": "execute_result"
    }
   ],
   "source": [
    "X_train.shape"
   ]
  },
  {
   "cell_type": "code",
   "execution_count": 20,
   "metadata": {},
   "outputs": [
    {
     "data": {
      "image/png": "[encoded data removed]",
      "text/plain": [
       "<Figure size 600x600 with 1 Axes>"
      ]
     },
     "metadata": {},
     "output_type": "display_data"
    }
   ],
   "source": [
    "# Visualize our data\n",
    "plt.figure(figsize=(6,6))\n",
    "plt.scatter(X.iloc[:, 0], X.iloc[:, 1], label='class 0', c=y)\n",
    "plt.show()"
   ]
  },
  {
   "cell_type": "code",
   "execution_count": 26,
   "metadata": {},
   "outputs": [],
   "source": [
    "#experiment tracking\n",
    "import mlflow\n",
    "import os\n",
    "# This the dockerized method.\n",
    "# We build two docker containers, one for python/jupyter and another for mlflow.\n",
    "# The url `mlflow` is resolved into another container within the same composer.\n",
    "\n",
    "\n",
    "#HERE, we write the code to access the mlflow server in order to save our models\n",
    "\n",
    "# mlflow.set_tracking_uri(\"https://mlflow.ml.brain.cs.ait.ac.th/\")\n",
    "mlflow.set_tracking_uri(\"http://localhost:8080\")\n",
    "\n",
    "\n",
    "# os.environ[\"MLFLOW_TRACKING_USERNAME\"] = \"admin\"\n",
    "# os.environ[\"MLFLOW_TRACKING_PASSWORD\"] = \"password\"\n",
    "\n",
    "os.environ[\"LOGNAME\"] = \"sixth try exp 3\"\n",
    "\n",
    "# mlflow.set_experiment(experiment_name=\"st125002-a3\")"
   ]
  },
  {
   "cell_type": "code",
   "execution_count": 27,
   "metadata": {},
   "outputs": [
    {
     "data": {
      "text/plain": [
       "1"
      ]
     },
     "execution_count": 27,
     "metadata": {},
     "output_type": "execute_result"
    }
   ],
   "source": [
    "np.array(y_test)[1]"
   ]
  },
  {
   "cell_type": "code",
   "execution_count": 28,
   "metadata": {},
   "outputs": [
    {
     "ename": "NameError",
     "evalue": "name 'yhat' is not defined",
     "output_type": "error",
     "traceback": [
      "\u001b[1;31m---------------------------------------------------------------------------\u001b[0m",
      "\u001b[1;31mNameError\u001b[0m                                 Traceback (most recent call last)",
      "Cell \u001b[1;32mIn[28], line 1\u001b[0m\n\u001b[1;32m----> 1\u001b[0m \u001b[43myhat\u001b[49m[\u001b[38;5;241m1\u001b[39m]\n",
      "\u001b[1;31mNameError\u001b[0m: name 'yhat' is not defined"
     ]
    }
   ],
   "source": [
    "yhat[1]"
   ]
  },
  {
   "cell_type": "code",
   "execution_count": 21,
   "metadata": {},
   "outputs": [],
   "source": [
    "def accuracy_score(y_test, yhat):\n",
    "    correct=0\n",
    "    for i in range(len(yhat)):\n",
    "        if np.array(y_test)[i] == yhat[i]:\n",
    "            correct+=1\n",
    "    return correct/len(y_test)"
   ]
  },
  {
   "cell_type": "code",
   "execution_count": 29,
   "metadata": {},
   "outputs": [],
   "source": [
    "\n",
    "# Function to compute precision, recall and f1-score for one class\n",
    "def class_metrics(y_test, yhat, cls):\n",
    "    # True Positives (TP): correct prediction for class cls\n",
    "    tp = sum((yhat == cls) & (y_test == cls))\n",
    "    # False Positives (FP): predicted class cls but actually another class\n",
    "    fp = sum((yhat == cls) & (y_test != cls))\n",
    "    # False Negatives (FN): didn't predict class cls but it was actually cls\n",
    "    fn = sum((yhat != cls) & (y_test == cls))\n",
    "    \n",
    "    # Precision: TP / (TP + FP)\n",
    "    precision = tp / (tp + fp) if (tp + fp) > 0 else 0\n",
    "    # Recall: TP / (TP + FN)\n",
    "    recall = tp / (tp + fn) if (tp + fn) > 0 else 0\n",
    "    # F1 score: 2 * (precision * recall) / (precision + recall)\n",
    "    f1 = 2 * (precision * recall) / (precision + recall) if (precision + recall) > 0 else 0\n",
    "    \n",
    "    return precision, recall, f1\n",
    "\n",
    "# Function to calculate macro-averaged metrics\n",
    "def macro_metrics(y_test, yhat, num_classes):\n",
    "    total_precision = 0\n",
    "    total_recall = 0\n",
    "    total_f1 = 0\n",
    "    \n",
    "    for cls in range(num_classes):\n",
    "        precision, recall, f1 = class_metrics(np.array(y_test), np.array(yhat), cls)\n",
    "        total_precision += precision\n",
    "        total_recall += recall\n",
    "        total_f1 += f1\n",
    "    \n",
    "    # Macro average is the mean of the metrics for all classes\n",
    "    macro_precision = total_precision / num_classes\n",
    "    macro_recall = total_recall / num_classes\n",
    "    macro_f1 = total_f1 / num_classes\n",
    "    \n",
    "    return macro_precision, macro_recall, macro_f1\n",
    "\n",
    "# Function to calculate class weights (frequency of each class in y_test)\n",
    "def class_weights(y_test, num_classes):\n",
    "    class_counts = np.bincount(y_test)\n",
    "    total_samples = len(y_test)\n",
    "    weights = class_counts / total_samples\n",
    "    return weights\n",
    "\n",
    "# Function to calculate weighted-averaged metrics\n",
    "def weighted_metrics(y_test, yhat, num_classes):\n",
    "    weights = class_weights(np.array(y_test), num_classes)\n",
    "    total_weighted_precision = 0\n",
    "    total_weighted_recall = 0\n",
    "    total_weighted_f1 = 0\n",
    "    \n",
    "    for cls in range(num_classes):\n",
    "        precision, recall, f1 = class_metrics(np.array(y_test), np.array(yhat), cls)\n",
    "        weight = weights[cls]\n",
    "        total_weighted_precision += precision * weight\n",
    "        total_weighted_recall += recall * weight\n",
    "        total_weighted_f1 += f1 * weight\n",
    "    \n",
    "    return total_weighted_precision, total_weighted_recall, total_weighted_f1\n"
   ]
  },
  {
   "cell_type": "code",
   "execution_count": 30,
   "metadata": {},
   "outputs": [],
   "source": [
    "class LogisticRegression:\n",
    "\n",
    "    def __init__(self, k, n, method, alpha = 0.0001, max_iter=5000, ridge=False, lmbda=0.1):\n",
    "        self.k = k\n",
    "        self.n = n\n",
    "        self.alpha = alpha\n",
    "        self.max_iter = max_iter\n",
    "        self.method = method\n",
    "        self.ridge = ridge\n",
    "        self.lmbda = lmbda\n",
    "\n",
    "    def fit(self, X, Y):\n",
    "        self.W = np.random.rand(self.n, self.k) * 0.01\n",
    "        self.losses = []\n",
    "\n",
    "        if self.method == \"batch\":\n",
    "            start_time = time.time()\n",
    "            for i in range(self.max_iter):\n",
    "                loss, grad =  self.gradient(X, Y)\n",
    "                self.losses.append(loss)\n",
    "                self.W = self.W - self.alpha * grad\n",
    "                if i % 500 == 0:\n",
    "                    print(f\"Loss at iteration {i}\", loss)\n",
    "                \n",
    "            print(f\"time taken: {time.time() - start_time}\")\n",
    "            \n",
    "        elif self.method == \"minibatch\":\n",
    "            start_time = time.time()\n",
    "            batch_size = int(0.3 * X.shape[0])\n",
    "            for i in range(self.max_iter):\n",
    "                ix = np.random.randint(0, X.shape[0])\n",
    "                batch_X = X[ix:ix+batch_size]\n",
    "                batch_Y = Y[ix:ix+batch_size]\n",
    "                loss, grad = self.gradient(batch_X, batch_Y)\n",
    "\n",
    "                self.losses.append(loss)\n",
    "                self.W = self.W - self.alpha * grad\n",
    "                if i % 500 == 0:\n",
    "                    print(f\"Loss at iteration {i}\", loss)\n",
    "                \n",
    "            print(f\"time taken: {time.time() - start_time}\")\n",
    "\n",
    "        elif self.method == \"sto\":\n",
    "            start_time = time.time()\n",
    "            list_of_used_ix = []\n",
    "            for i in range(self.max_iter):\n",
    "                idx = np.random.randint(X.shape[0])\n",
    "                while i in list_of_used_ix:\n",
    "                    idx = np.random.randint(X.shape[0])\n",
    "                X_train = X[idx, :].reshape(1, -1)\n",
    "                Y_train = Y[idx]\n",
    "                loss, grad = self.gradient(X_train, Y_train)\n",
    "                self.losses.append(loss)\n",
    "                self.W = self.W - self.alpha * grad\n",
    "\n",
    "                list_of_used_ix.append(i)\n",
    "                if len(list_of_used_ix) == X.shape[0]:\n",
    "                    list_of_used_ix = []\n",
    "                if i % 500 == 0:\n",
    "                    print(f\"Loss at iteration {i}\", loss)\n",
    "            print(f\"time taken: {time.time() - start_time}\")\n",
    "\n",
    "        else:\n",
    "            raise ValueError('Method must be one of the followings: \"batch\", \"minibatch\" or \"sto\".')\n",
    "\n",
    "\n",
    "    def gradient(self, X, Y):\n",
    "        m = X.shape[0]\n",
    "        H = self._predict(X, self.W)\n",
    "        loss = -np.sum(Y*np.log(H)) / m\n",
    "        grad = X.T @ (H - Y)\n",
    "\n",
    "        # If ridge (L2 penalty) is enabled, modify the loss and gradient\n",
    "        if self.ridge:\n",
    "            # Add L2 penalty to the loss\n",
    "            loss += (self.lmbda / (2 * m)) * np.sum(np.square(self.W))\n",
    "            # Add L2 penalty to the gradient\n",
    "            grad += (self.lmbda / m) * self.W\n",
    "\n",
    "        return loss, grad\n",
    "\n",
    "        return loss, grad\n",
    "    \n",
    "    def _predict(self, X, W):\n",
    "        return self.softmax(X @ W)\n",
    "    \n",
    "    def softmax(self, theta_t_x):\n",
    "        # theta_t_x[theta_t_x == 0] = 0.0001\n",
    "        # print(\"softmax value:\",np.exp(theta_t_x) / np.sum(np.exp(theta_t_x), axis=1, keepdims=True))\n",
    "        # print()\n",
    "        return np.exp(theta_t_x) / np.sum(np.exp(theta_t_x), axis=1, keepdims=True)\n",
    "\n",
    "    def softmax_grad(self, X, error):\n",
    "        # error[error == 0] = 0.0001\n",
    "        return  X.T @ error\n",
    "\n",
    "    def h_theta(self, X, W):\n",
    "        # W[W == 0] = 0.0001\n",
    "        # print(\"self.softmax in h_theta:\",self.softmax(X@W))\n",
    "        return self.softmax(X @ W)\n",
    "\n",
    "    def predict(self, X_test):\n",
    "        return np.argmax(self.h_theta(X_test, self.W), axis=1)\n",
    "\n",
    "    def plot(self, pen):\n",
    "        plt.plot(np.arange(len(self.losses)) , self.losses, label = \"Train Losses\")\n",
    "        plt.title(\"Losses\")\n",
    "        plt.xlabel(\"epoch\")\n",
    "        plt.ylabel(\"losses\")\n",
    "        plt.legend()\n",
    "        plot_save = f\"grad_ride_{pen}.png\"  # Use the format you specified\n",
    "        plt.savefig(plot_save)\n",
    "        plt.close()  # Close the plot to free up memory\n",
    "        \n",
    "        return plot_save\n",
    "        \n",
    "\n"
   ]
  },
  {
   "cell_type": "code",
   "execution_count": 31,
   "metadata": {},
   "outputs": [
    {
     "data": {
      "text/plain": [
       "array([0., 1.])"
      ]
     },
     "execution_count": 31,
     "metadata": {},
     "output_type": "execute_result"
    }
   ],
   "source": [
    "np.unique(Y_train_encoded)"
   ]
  },
  {
   "cell_type": "code",
   "execution_count": 32,
   "metadata": {},
   "outputs": [
    {
     "name": "stdout",
     "output_type": "stream",
     "text": [
      "Running: sto_ridge:True\n",
      "Loss at iteration 0 1.388430938039162\n",
      "Loss at iteration 500 1.3641028965012978\n",
      "Loss at iteration 1000 1.3925829356571435\n",
      "Loss at iteration 1500 1.3841383015633233\n",
      "Loss at iteration 2000 1.352352758517767\n",
      "Loss at iteration 2500 1.3748673099627935\n",
      "Loss at iteration 3000 1.211200457350773\n",
      "Loss at iteration 3500 1.4520724977371797\n",
      "Loss at iteration 4000 1.289162609953651\n",
      "Loss at iteration 4500 1.301103292347415\n",
      "time taken: 0.321044921875\n"
     ]
    },
    {
     "name": "stderr",
     "output_type": "stream",
     "text": [
      "2024/10/06 00:21:37 INFO mlflow.tracking._tracking_service.client: 🏃 View run sto_ridge:True at: http://localhost:8080/#/experiments/0/runs/7ada101b88a744f6b68fa9ff8b134caf.\n",
      "2024/10/06 00:21:37 INFO mlflow.tracking._tracking_service.client: 🧪 View experiment at: http://localhost:8080/#/experiments/0.\n"
     ]
    },
    {
     "name": "stdout",
     "output_type": "stream",
     "text": [
      "Running: sto_ridge:False\n",
      "Loss at iteration 0 1.3869933203309457\n",
      "Loss at iteration 500 1.3876993294789242\n",
      "Loss at iteration 1000 1.376434825273473\n",
      "Loss at iteration 1500 1.3955675699047934\n",
      "Loss at iteration 2000 1.3936273153558454\n",
      "Loss at iteration 2500 1.409007944208322\n",
      "Loss at iteration 3000 1.3898688073908527\n",
      "Loss at iteration 3500 1.3860345833956675\n",
      "Loss at iteration 4000 1.337575160553502\n",
      "Loss at iteration 4500 1.3818411266239297\n",
      "time taken: 0.331479549407959\n"
     ]
    },
    {
     "name": "stderr",
     "output_type": "stream",
     "text": [
      "2024/10/06 00:21:40 INFO mlflow.tracking._tracking_service.client: 🏃 View run sto_ridge:False at: http://localhost:8080/#/experiments/0/runs/5b6a9e3ddcae45ae8485cf37d4353a75.\n",
      "2024/10/06 00:21:40 INFO mlflow.tracking._tracking_service.client: 🧪 View experiment at: http://localhost:8080/#/experiments/0.\n"
     ]
    },
    {
     "name": "stdout",
     "output_type": "stream",
     "text": [
      "Running: minibatch_ridge:True\n",
      "Loss at iteration 0 1.3855033949388798\n",
      "Loss at iteration 500 1.133291245165236\n",
      "Loss at iteration 1000 1.155590203346576\n",
      "Loss at iteration 1500 1.1674771528267538\n",
      "Loss at iteration 2000 1.1456627189632584\n",
      "Loss at iteration 2500 1.1318511883671754\n",
      "Loss at iteration 3000 1.1315303647208172\n",
      "Loss at iteration 3500 1.14528578918936\n",
      "Loss at iteration 4000 1.1639292400302172\n",
      "Loss at iteration 4500 1.1356741649059834\n",
      "time taken: 0.942347526550293\n"
     ]
    },
    {
     "name": "stderr",
     "output_type": "stream",
     "text": [
      "2024/10/06 00:21:44 INFO mlflow.tracking._tracking_service.client: 🏃 View run minibatch_ridge:True at: http://localhost:8080/#/experiments/0/runs/b0e8f1de05ad4cbfa3a9dc6901503fc1.\n",
      "2024/10/06 00:21:44 INFO mlflow.tracking._tracking_service.client: 🧪 View experiment at: http://localhost:8080/#/experiments/0.\n"
     ]
    },
    {
     "name": "stdout",
     "output_type": "stream",
     "text": [
      "Running: minibatch_ridge:False\n",
      "Loss at iteration 0 1.3870509906609563\n",
      "Loss at iteration 500 1.143973381058101\n",
      "Loss at iteration 1000 1.1410024860638979\n",
      "Loss at iteration 1500 1.1314882411285936\n",
      "Loss at iteration 2000 1.1371432608433873\n",
      "Loss at iteration 2500 1.1407809792187367\n",
      "Loss at iteration 3000 1.1422539692708957\n",
      "Loss at iteration 3500 1.1345633928497698\n",
      "Loss at iteration 4000 1.16741261761961\n",
      "Loss at iteration 4500 1.172337205156397\n",
      "time taken: 0.9708545207977295\n"
     ]
    },
    {
     "name": "stderr",
     "output_type": "stream",
     "text": [
      "2024/10/06 00:21:48 INFO mlflow.tracking._tracking_service.client: 🏃 View run minibatch_ridge:False at: http://localhost:8080/#/experiments/0/runs/b1f96917c56e40e8ace698ddee27c600.\n",
      "2024/10/06 00:21:48 INFO mlflow.tracking._tracking_service.client: 🧪 View experiment at: http://localhost:8080/#/experiments/0.\n"
     ]
    },
    {
     "name": "stdout",
     "output_type": "stream",
     "text": [
      "Running: batch_ridge:True\n",
      "Loss at iteration 0 1.3866999457011664\n",
      "Loss at iteration 500 1.1519174801937335\n",
      "Loss at iteration 1000 1.1519174804052401\n",
      "Loss at iteration 1500 1.1519174804052357\n",
      "Loss at iteration 2000 1.1519174804052295\n",
      "Loss at iteration 2500 1.1519174804052232\n",
      "Loss at iteration 3000 1.151917480405217\n",
      "Loss at iteration 3500 1.1519174804052108\n",
      "Loss at iteration 4000 1.1519174804052044\n",
      "Loss at iteration 4500 1.1519174804051981\n",
      "time taken: 3.586199998855591\n"
     ]
    },
    {
     "name": "stderr",
     "output_type": "stream",
     "text": [
      "2024/10/06 00:21:55 INFO mlflow.tracking._tracking_service.client: 🏃 View run batch_ridge:True at: http://localhost:8080/#/experiments/0/runs/ff03e55dc775434a9aa8da09a8404f4a.\n",
      "2024/10/06 00:21:55 INFO mlflow.tracking._tracking_service.client: 🧪 View experiment at: http://localhost:8080/#/experiments/0.\n"
     ]
    },
    {
     "name": "stdout",
     "output_type": "stream",
     "text": [
      "Running: batch_ridge:False\n",
      "Loss at iteration 0 1.384686450258064\n",
      "Loss at iteration 500 1.1518727388821481\n",
      "Loss at iteration 1000 1.1518727388806853\n",
      "Loss at iteration 1500 1.1518727388806855\n",
      "Loss at iteration 2000 1.1518727388806855\n",
      "Loss at iteration 2500 1.1518727388806855\n",
      "Loss at iteration 3000 1.1518727388806855\n",
      "Loss at iteration 3500 1.1518727388806855\n",
      "Loss at iteration 4000 1.1518727388806855\n",
      "Loss at iteration 4500 1.1518727388806855\n",
      "time taken: 3.1347968578338623\n"
     ]
    },
    {
     "name": "stderr",
     "output_type": "stream",
     "text": [
      "2024/10/06 00:22:01 INFO mlflow.tracking._tracking_service.client: 🏃 View run batch_ridge:False at: http://localhost:8080/#/experiments/0/runs/f27093be5ef14ec88794e33c9e29a46e.\n",
      "2024/10/06 00:22:01 INFO mlflow.tracking._tracking_service.client: 🧪 View experiment at: http://localhost:8080/#/experiments/0.\n"
     ]
    }
   ],
   "source": [
    "gradiant = ['sto', 'minibatch', 'batch']\n",
    "ridge_penalty = [True, False]\n",
    "best_accuracy = float('-inf')\n",
    "best_params = {}\n",
    "best_model = None\n",
    "# with mlflow.start_run(run_name=f\"{reg_method}_{batch_method}_{init_method}_lr{lr}_momentum{use_momentum}\", nested=True):\n",
    "for grad in gradiant: \n",
    "    for pen in ridge_penalty:\n",
    "\n",
    "        with mlflow.start_run(run_name=f\"{grad}_ridge:{pen}\", nested=True):\n",
    "            print(f\"Running: {grad}_ridge:{pen}\")\n",
    "                        \n",
    "            model = LogisticRegression(k, X_train.shape[1], method=grad, ridge=pen, lmbda=0.1)\n",
    "            params = {\n",
    "                                \"method\": grad, \n",
    "                                \"lr\":0.01,\n",
    "                                \"l\": 0.1,\n",
    "                                \"ridge penalty\":pen\n",
    "                            }\n",
    "            model.fit(X_train, Y_train_encoded)\n",
    "            mlflow.log_params(params)\n",
    "            yhat = model.predict(X_test)\n",
    "            precision, recall, f1_score = class_metrics(y_test, yhat, k)\n",
    "\n",
    "            mlflow.log_metric(\"precision\", precision)\n",
    "            mlflow.log_metric(\"recall\", recall)\n",
    "            mlflow.log_metric(\"f1_score\", f1_score)\n",
    "\n",
    "\n",
    "            \n",
    "            # Calculate macro-averaged metrics\n",
    "            macro_precision, macro_recall, macro_f1 = macro_metrics(y_test, yhat, k)\n",
    "            mlflow.log_metric(\"macro_precison\", macro_precision)\n",
    "            mlflow.log_metric(\"macro_recall\", macro_recall)\n",
    "            mlflow.log_metric(\"macro_f1\", macro_f1)\n",
    "\n",
    "            weighted_precision, weighted_recall, weighted_f1 = weighted_metrics(y_test, yhat, k)\n",
    "            mlflow.log_metric(\"weighted_precision\", weighted_precision)\n",
    "            mlflow.log_metric(\"weighted_recall\", weighted_recall)\n",
    "            mlflow.log_metric(\"weighted_f1\", weighted_f1)\n",
    "            \n",
    "            accuracy = accuracy_score(y_test, yhat)                            # Log model\n",
    "            signature = mlflow.models.infer_signature(X_train, model.predict(X_test))\n",
    "            mlflow.sklearn.log_model(model, artifact_path='model', signature=signature)\n",
    "\n",
    "            # Calculate weighted-averaged metrics\n",
    "            \n",
    "            if accuracy > best_accuracy:\n",
    "                best_accuracy = accuracy\n",
    "                best_model = model\n",
    "                best_params = {\n",
    "                    \"gradiant\": grad,\n",
    "                    \"Ridge\": pen\n",
    "                    }\n",
    "                \n",
    "            plt_file_path = model.plot(pen)  # Generate and save the plot\n",
    "    \n",
    "    # Log the plot file to MLflow\n",
    "            mlflow.log_artifact(plt_file_path)\n",
    "            \n",
    "            mlflow.end_run()"
   ]
  },
  {
   "cell_type": "code",
   "execution_count": 97,
   "metadata": {},
   "outputs": [
    {
     "data": {
      "text/plain": [
       "7447    1\n",
       "3391    1\n",
       "2336    2\n",
       "324     0\n",
       "5017    2\n",
       "       ..\n",
       "2277    1\n",
       "6489    1\n",
       "2330    1\n",
       "2771    2\n",
       "3455    3\n",
       "Name: selling_price, Length: 1750, dtype: int64"
      ]
     },
     "execution_count": 97,
     "metadata": {},
     "output_type": "execute_result"
    }
   ],
   "source": [
    "y_test"
   ]
  },
  {
   "cell_type": "code",
   "execution_count": 98,
   "metadata": {},
   "outputs": [
    {
     "data": {
      "text/plain": [
       "{'gradiant': 'minibatch', 'Ridge': True}"
      ]
     },
     "execution_count": 98,
     "metadata": {},
     "output_type": "execute_result"
    }
   ],
   "source": [
    "best_params"
   ]
  },
  {
   "cell_type": "code",
   "execution_count": 99,
   "metadata": {},
   "outputs": [
    {
     "data": {
      "text/plain": [
       "0.4937142857142857"
      ]
     },
     "execution_count": 99,
     "metadata": {},
     "output_type": "execute_result"
    }
   ],
   "source": [
    "best_accuracy"
   ]
  },
  {
   "cell_type": "code",
   "execution_count": 33,
   "metadata": {},
   "outputs": [
    {
     "data": {
      "text/plain": [
       "<__main__.LogisticRegression at 0x164c9ca8f90>"
      ]
     },
     "execution_count": 33,
     "metadata": {},
     "output_type": "execute_result"
    }
   ],
   "source": [
    "best_model"
   ]
  },
  {
   "cell_type": "code",
   "execution_count": 34,
   "metadata": {},
   "outputs": [],
   "source": [
    "import pickle\n",
    "\n",
    "# save the iris classification model as a pickle file\n",
    "model_pkl_file = \"a3_classifier_final.pkl\"  \n",
    "\n",
    "with open(model_pkl_file, 'wb') as file:  \n",
    "    pickle.dump(best_model, file)"
   ]
  },
  {
   "cell_type": "code",
   "execution_count": 29,
   "metadata": {},
   "outputs": [
    {
     "data": {
      "text/plain": [
       "dtype('float64')"
      ]
     },
     "execution_count": 29,
     "metadata": {},
     "output_type": "execute_result"
    }
   ],
   "source": [
    "y_test.dtype"
   ]
  },
  {
   "cell_type": "code",
   "execution_count": 35,
   "metadata": {},
   "outputs": [
    {
     "data": {
      "text/plain": [
       "2657    1\n",
       "1705    2\n",
       "5917    0\n",
       "3412    1\n",
       "7025    3\n",
       "Name: selling_price, dtype: int64"
      ]
     },
     "execution_count": 35,
     "metadata": {},
     "output_type": "execute_result"
    }
   ],
   "source": [
    "y_train.head()"
   ]
  },
  {
   "cell_type": "code",
   "execution_count": 44,
   "metadata": {},
   "outputs": [
    {
     "name": "stdout",
     "output_type": "stream",
     "text": [
      "Bucket 1: Min = 0, Max = 0\n",
      "Bucket 2: Min = 1, Max = 1\n",
      "Bucket 3: Min = 2, Max = 2\n",
      "Bucket 4: Min = None, Max = None\n"
     ]
    }
   ],
   "source": [
    "num_bins = 4\n",
    "\n",
    "# Get min and max of data\n",
    "counts, bin_edges = np.histogram(y_train, bins=num_bins)\n",
    "\n",
    "# For each bin, find the min and max data points that fall into that bin\n",
    "for i in range(len(bin_edges) - 1):\n",
    "    # Find values within the current bin\n",
    "    bucket_data = y_train[(y_train >= bin_edges[i]) & (y_train < bin_edges[i + 1])]\n",
    "    \n",
    "    if len(bucket_data) > 0:\n",
    "        bucket_min = bucket_data.min()\n",
    "        bucket_max = bucket_data.max()\n",
    "    else:\n",
    "        bucket_min = bucket_max = None\n",
    "    \n",
    "    print(f\"Bucket {i + 1}: Min = {bucket_min}, Max = {bucket_max}\")"
   ]
  },
  {
   "cell_type": "code",
   "execution_count": 37,
   "metadata": {},
   "outputs": [
    {
     "data": {
      "text/html": [
       "<div>\n",
       "<style scoped>\n",
       "    .dataframe tbody tr th:only-of-type {\n",
       "        vertical-align: middle;\n",
       "    }\n",
       "\n",
       "    .dataframe tbody tr th {\n",
       "        vertical-align: top;\n",
       "    }\n",
       "\n",
       "    .dataframe thead th {\n",
       "        text-align: right;\n",
       "    }\n",
       "</style>\n",
       "<table border=\"1\" class=\"dataframe\">\n",
       "  <thead>\n",
       "    <tr style=\"text-align: right;\">\n",
       "      <th></th>\n",
       "      <th>engine</th>\n",
       "      <th>max_power</th>\n",
       "      <th>mileage</th>\n",
       "      <th>km_driven</th>\n",
       "      <th>selling_price</th>\n",
       "    </tr>\n",
       "  </thead>\n",
       "  <tbody>\n",
       "    <tr>\n",
       "      <th>0</th>\n",
       "      <td>1248.0</td>\n",
       "      <td>74.00</td>\n",
       "      <td>23.40</td>\n",
       "      <td>145500</td>\n",
       "      <td>450000</td>\n",
       "    </tr>\n",
       "    <tr>\n",
       "      <th>1</th>\n",
       "      <td>1498.0</td>\n",
       "      <td>103.52</td>\n",
       "      <td>21.14</td>\n",
       "      <td>120000</td>\n",
       "      <td>370000</td>\n",
       "    </tr>\n",
       "    <tr>\n",
       "      <th>2</th>\n",
       "      <td>1497.0</td>\n",
       "      <td>78.00</td>\n",
       "      <td>17.70</td>\n",
       "      <td>140000</td>\n",
       "      <td>158000</td>\n",
       "    </tr>\n",
       "    <tr>\n",
       "      <th>3</th>\n",
       "      <td>1396.0</td>\n",
       "      <td>90.00</td>\n",
       "      <td>23.00</td>\n",
       "      <td>127000</td>\n",
       "      <td>225000</td>\n",
       "    </tr>\n",
       "    <tr>\n",
       "      <th>4</th>\n",
       "      <td>1298.0</td>\n",
       "      <td>88.20</td>\n",
       "      <td>16.10</td>\n",
       "      <td>120000</td>\n",
       "      <td>130000</td>\n",
       "    </tr>\n",
       "  </tbody>\n",
       "</table>\n",
       "</div>"
      ],
      "text/plain": [
       "   engine  max_power  mileage  km_driven  selling_price\n",
       "0  1248.0      74.00    23.40     145500         450000\n",
       "1  1498.0     103.52    21.14     120000         370000\n",
       "2  1497.0      78.00    17.70     140000         158000\n",
       "3  1396.0      90.00    23.00     127000         225000\n",
       "4  1298.0      88.20    16.10     120000         130000"
      ]
     },
     "execution_count": 37,
     "metadata": {},
     "output_type": "execute_result"
    }
   ],
   "source": [
    "df.head()"
   ]
  },
  {
   "cell_type": "code",
   "execution_count": 41,
   "metadata": {},
   "outputs": [
    {
     "data": {
      "text/plain": [
       "[1, 0, 3, 2]\n",
       "Categories (4, int64): [0 < 1 < 2 < 3]"
      ]
     },
     "execution_count": 41,
     "metadata": {},
     "output_type": "execute_result"
    }
   ],
   "source": [
    "y.unique()"
   ]
  },
  {
   "cell_type": "code",
   "execution_count": 42,
   "metadata": {},
   "outputs": [
    {
     "data": {
      "text/plain": [
       "0       1\n",
       "1       1\n",
       "2       0\n",
       "3       0\n",
       "4       0\n",
       "       ..\n",
       "8023    1\n",
       "8024    0\n",
       "8025    1\n",
       "8026    1\n",
       "8027    1\n",
       "Name: selling_price, Length: 7000, dtype: category\n",
       "Categories (4, int64): [0 < 1 < 2 < 3]"
      ]
     },
     "execution_count": 42,
     "metadata": {},
     "output_type": "execute_result"
    }
   ],
   "source": [
    "y"
   ]
  },
  {
   "cell_type": "code",
   "execution_count": null,
   "metadata": {},
   "outputs": [],
   "source": []
  }
 ],
 "metadata": {
  "kernelspec": {
   "display_name": "Python 3",
   "language": "python",
   "name": "python3"
  },
  "language_info": {
   "codemirror_mode": {
    "name": "ipython",
    "version": 3
   },
   "file_extension": ".py",
   "mimetype": "text/x-python",
   "name": "python",
   "nbconvert_exporter": "python",
   "pygments_lexer": "ipython3",
   "version": "3.11.3"
  }
 },
 "nbformat": 4,
 "nbformat_minor": 2
}
